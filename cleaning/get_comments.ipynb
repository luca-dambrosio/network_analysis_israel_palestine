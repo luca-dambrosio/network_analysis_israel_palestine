{
 "cells": [
  {
   "cell_type": "markdown",
   "metadata": {},
   "source": [
    "# GET THE COMMENTS FOR EACH SUBMISSION AND BUILD A DATASET"
   ]
  },
  {
   "cell_type": "markdown",
   "metadata": {},
   "source": [
    "### IMPORTS"
   ]
  },
  {
   "cell_type": "code",
   "execution_count": 1,
   "metadata": {},
   "outputs": [],
   "source": [
    "import praw\n",
    "import pandas as pd\n",
    "import numpy as np\n",
    "import re\n",
    "from collections import defaultdict\n",
    "import json\n",
    "import time\n",
    "from datetime import datetime, timezone\n",
    "\n",
    "# SETUP FOR THE PRAW API WRAPPER\n",
    "reddit = praw.Reddit(\n",
    "\n",
    "client_id=\"bzcg8W-P-BdVy5N2N7JLbQ\",\n",
    "\n",
    "client_secret=\"q_5XGJ8gEI33-PO2p0LSFRG4DWNtIQ\",\n",
    "\n",
    "user_agent= \"my-user-agent\")"
   ]
  },
  {
   "cell_type": "code",
   "execution_count": 2,
   "metadata": {},
   "outputs": [],
   "source": [
    "# DEFINE THE SUBREDDIT WE ARE GOING TO USE\n",
    "subreddit = reddit.subreddit(\"IsraelPalestine\")"
   ]
  },
  {
   "cell_type": "code",
   "execution_count": 12,
   "metadata": {},
   "outputs": [
    {
     "data": {
      "text/html": [
       "<div>\n",
       "<style scoped>\n",
       "    .dataframe tbody tr th:only-of-type {\n",
       "        vertical-align: middle;\n",
       "    }\n",
       "\n",
       "    .dataframe tbody tr th {\n",
       "        vertical-align: top;\n",
       "    }\n",
       "\n",
       "    .dataframe thead th {\n",
       "        text-align: right;\n",
       "    }\n",
       "</style>\n",
       "<table border=\"1\" class=\"dataframe\">\n",
       "  <thead>\n",
       "    <tr style=\"text-align: right;\">\n",
       "      <th></th>\n",
       "      <th>upvotes</th>\n",
       "      <th>date</th>\n",
       "      <th>title</th>\n",
       "      <th>username</th>\n",
       "      <th>text</th>\n",
       "      <th>post_id</th>\n",
       "    </tr>\n",
       "  </thead>\n",
       "  <tbody>\n",
       "    <tr>\n",
       "      <th>0</th>\n",
       "      <td>16</td>\n",
       "      <td>2023-07-01</td>\n",
       "      <td>How likely is a peace treaty between Israel an...</td>\n",
       "      <td>u/ANobodyBoy</td>\n",
       "      <td>Either for a two-state solution or a one-state...</td>\n",
       "      <td>14o273q</td>\n",
       "    </tr>\n",
       "    <tr>\n",
       "      <th>1</th>\n",
       "      <td>5</td>\n",
       "      <td>2023-07-01</td>\n",
       "      <td>The lies of the anti-zionist movement</td>\n",
       "      <td>u/One-Trash3743</td>\n",
       "      <td>Antizionists always claim that they're not aga...</td>\n",
       "      <td>14niaul</td>\n",
       "    </tr>\n",
       "    <tr>\n",
       "      <th>2</th>\n",
       "      <td>1</td>\n",
       "      <td>2023-07-01</td>\n",
       "      <td>THE KINGDOM OF JERUSALEM IS FOREVER</td>\n",
       "      <td>u/TheBasedFeudalist163</td>\n",
       "      <td>Reject the false dichotomy both states are the...</td>\n",
       "      <td>14nmufa</td>\n",
       "    </tr>\n",
       "    <tr>\n",
       "      <th>3</th>\n",
       "      <td>1</td>\n",
       "      <td>2023-07-01</td>\n",
       "      <td>Anyone looking to discuss the conflict</td>\n",
       "      <td>u/Salty_Werewolf6532</td>\n",
       "      <td>Looking for a pro Palestinian to discuss the c...</td>\n",
       "      <td>14nt4nu</td>\n",
       "    </tr>\n",
       "    <tr>\n",
       "      <th>4</th>\n",
       "      <td>2</td>\n",
       "      <td>2023-07-02</td>\n",
       "      <td>Does anyone think a one state solution is even...</td>\n",
       "      <td>u/SoleySaul</td>\n",
       "      <td>I have never been a proponent of a one state s...</td>\n",
       "      <td>14opxhk</td>\n",
       "    </tr>\n",
       "    <tr>\n",
       "      <th>...</th>\n",
       "      <td>...</td>\n",
       "      <td>...</td>\n",
       "      <td>...</td>\n",
       "      <td>...</td>\n",
       "      <td>...</td>\n",
       "      <td>...</td>\n",
       "    </tr>\n",
       "    <tr>\n",
       "      <th>6662</th>\n",
       "      <td>100</td>\n",
       "      <td>2024-04-29</td>\n",
       "      <td>Short view of the conflict by an Israeli</td>\n",
       "      <td>u/Minute_Can_9561</td>\n",
       "      <td>So, long story short, I'm an Israeli, around 3...</td>\n",
       "      <td>1cfpkbi</td>\n",
       "    </tr>\n",
       "    <tr>\n",
       "      <th>6663</th>\n",
       "      <td>0</td>\n",
       "      <td>2024-04-29</td>\n",
       "      <td>Is Chanting \"Death to America\" Freedom of Speech?</td>\n",
       "      <td>u/vjlikebj</td>\n",
       "      <td>The University protestors have crossed the lin...</td>\n",
       "      <td>1cfpnyc</td>\n",
       "    </tr>\n",
       "    <tr>\n",
       "      <th>6664</th>\n",
       "      <td>16</td>\n",
       "      <td>2024-04-29</td>\n",
       "      <td>Do Israel need to eliminate the political bill...</td>\n",
       "      <td>u/Ok-Pack-8866</td>\n",
       "      <td>The short answer is \"Yes\" - for the very long ...</td>\n",
       "      <td>1cfvhji</td>\n",
       "    </tr>\n",
       "    <tr>\n",
       "      <th>6665</th>\n",
       "      <td>108</td>\n",
       "      <td>2024-04-29</td>\n",
       "      <td>Went to deliver supplies to protesting student...</td>\n",
       "      <td>u/Let_See_9915</td>\n",
       "      <td>Today I spent over 100 USD on food and deliver...</td>\n",
       "      <td>1cfrwfv</td>\n",
       "    </tr>\n",
       "    <tr>\n",
       "      <th>6666</th>\n",
       "      <td>81</td>\n",
       "      <td>2024-04-30</td>\n",
       "      <td>The Absolute Beauty Of The Protests Lol</td>\n",
       "      <td>u/WhichEdge</td>\n",
       "      <td>We now have \"protestors\" chanting for Hamas an...</td>\n",
       "      <td>1cgcv9f</td>\n",
       "    </tr>\n",
       "  </tbody>\n",
       "</table>\n",
       "<p>6667 rows × 6 columns</p>\n",
       "</div>"
      ],
      "text/plain": [
       "      upvotes        date                                              title  \\\n",
       "0          16  2023-07-01  How likely is a peace treaty between Israel an...   \n",
       "1           5  2023-07-01              The lies of the anti-zionist movement   \n",
       "2           1  2023-07-01                THE KINGDOM OF JERUSALEM IS FOREVER   \n",
       "3           1  2023-07-01             Anyone looking to discuss the conflict   \n",
       "4           2  2023-07-02  Does anyone think a one state solution is even...   \n",
       "...       ...         ...                                                ...   \n",
       "6662      100  2024-04-29           Short view of the conflict by an Israeli   \n",
       "6663        0  2024-04-29  Is Chanting \"Death to America\" Freedom of Speech?   \n",
       "6664       16  2024-04-29  Do Israel need to eliminate the political bill...   \n",
       "6665      108  2024-04-29  Went to deliver supplies to protesting student...   \n",
       "6666       81  2024-04-30            The Absolute Beauty Of The Protests Lol   \n",
       "\n",
       "                    username  \\\n",
       "0               u/ANobodyBoy   \n",
       "1            u/One-Trash3743   \n",
       "2     u/TheBasedFeudalist163   \n",
       "3       u/Salty_Werewolf6532   \n",
       "4                u/SoleySaul   \n",
       "...                      ...   \n",
       "6662       u/Minute_Can_9561   \n",
       "6663              u/vjlikebj   \n",
       "6664          u/Ok-Pack-8866   \n",
       "6665          u/Let_See_9915   \n",
       "6666             u/WhichEdge   \n",
       "\n",
       "                                                   text  post_id  \n",
       "0     Either for a two-state solution or a one-state...  14o273q  \n",
       "1     Antizionists always claim that they're not aga...  14niaul  \n",
       "2     Reject the false dichotomy both states are the...  14nmufa  \n",
       "3     Looking for a pro Palestinian to discuss the c...  14nt4nu  \n",
       "4     I have never been a proponent of a one state s...  14opxhk  \n",
       "...                                                 ...      ...  \n",
       "6662  So, long story short, I'm an Israeli, around 3...  1cfpkbi  \n",
       "6663  The University protestors have crossed the lin...  1cfpnyc  \n",
       "6664  The short answer is \"Yes\" - for the very long ...  1cfvhji  \n",
       "6665  Today I spent over 100 USD on food and deliver...  1cfrwfv  \n",
       "6666  We now have \"protestors\" chanting for Hamas an...  1cgcv9f  \n",
       "\n",
       "[6667 rows x 6 columns]"
      ]
     },
     "execution_count": 12,
     "metadata": {},
     "output_type": "execute_result"
    }
   ],
   "source": [
    "# Read the data we have and subset it\n",
    "df = pd.read_csv(\"RedditSubmissionsClean.csv\")\n",
    "df = df.query(\"subreddit == 'r/IsraelPalestine'\").reset_index(drop = True).drop([\"Unnamed: 0\", \"subreddit\"], axis = 1)\n",
    "df"
   ]
  },
  {
   "cell_type": "markdown",
   "metadata": {},
   "source": [
    "### GETTING THE SUBMISSION OBJECT FOR EVERY SUBMISSION ID AND GETTING THE COMMENT FOREST OBJECT FOR EACH SUBMISSION"
   ]
  },
  {
   "cell_type": "markdown",
   "metadata": {},
   "source": [
    "#### Divide in batches otherwise the requests fail"
   ]
  },
  {
   "cell_type": "code",
   "execution_count": 13,
   "metadata": {},
   "outputs": [],
   "source": [
    "df[\"submission_object\"] = [reddit.submission(id = post) for post in df[\"post_id\"]]"
   ]
  },
  {
   "cell_type": "code",
   "execution_count": 24,
   "metadata": {},
   "outputs": [],
   "source": [
    "batch1 = [sub.comments for sub in df[\"submission_object\"][:1000]]"
   ]
  },
  {
   "cell_type": "code",
   "execution_count": 25,
   "metadata": {},
   "outputs": [],
   "source": [
    "batch2 = [sub.comments for sub in df[\"submission_object\"][1000:2000]]"
   ]
  },
  {
   "cell_type": "code",
   "execution_count": 27,
   "metadata": {},
   "outputs": [],
   "source": [
    "batch3 = [sub.comments for sub in df[\"submission_object\"][2000:3000]]"
   ]
  },
  {
   "cell_type": "code",
   "execution_count": 30,
   "metadata": {},
   "outputs": [],
   "source": [
    "batch4 = [sub.comments for sub in df[\"submission_object\"][3000:4000]]"
   ]
  },
  {
   "cell_type": "code",
   "execution_count": 28,
   "metadata": {},
   "outputs": [],
   "source": [
    "batch5 = [sub.comments for sub in df[\"submission_object\"][4000:5000]]"
   ]
  },
  {
   "cell_type": "code",
   "execution_count": 29,
   "metadata": {},
   "outputs": [],
   "source": [
    "batch6 = [sub.comments for sub in df[\"submission_object\"][5000:]]"
   ]
  },
  {
   "cell_type": "code",
   "execution_count": 31,
   "metadata": {},
   "outputs": [],
   "source": [
    "batch_joined = batch1 + batch2 + batch3 + batch4 + batch5 + batch6"
   ]
  },
  {
   "cell_type": "code",
   "execution_count": 34,
   "metadata": {},
   "outputs": [],
   "source": [
    "df[\"comment_forest\"] = batch_joined"
   ]
  },
  {
   "cell_type": "markdown",
   "metadata": {},
   "source": [
    "### EXTRACTING THE COMMENT ORDER AND COMMENT DATA FROM THE COMMENT FOREST"
   ]
  },
  {
   "cell_type": "markdown",
   "metadata": {},
   "source": [
    "#### Useful functions"
   ]
  },
  {
   "cell_type": "code",
   "execution_count": 47,
   "metadata": {},
   "outputs": [],
   "source": [
    "def fetch_comments(batch, depth = 1):\n",
    "\n",
    "    \"\"\"\n",
    "    Args:\n",
    "        batch: a comment forest of the type provided by PRAW.\n",
    "        depth: optional depth parameter which \n",
    "                keeps track of how deep in the comment thread \n",
    "                the function is operating.\n",
    "    Returns:\n",
    "        A list of comments and their depths after processing \n",
    "        the entire post and its nested replies.\n",
    "\n",
    "    \"\"\"\n",
    "    authors_list = []\n",
    "    for comment in batch:\n",
    "        if isinstance(comment, praw.models.MoreComments):\n",
    "            continue\n",
    "        authors_list.append((comment, depth))\n",
    "        try:\n",
    "            if len(comment.replies) > 0:\n",
    "                authors_list.extend(fetch_comments(comment.replies, depth + 1))\n",
    "        except:\n",
    "            pass\n",
    "    return authors_list\n",
    "\n",
    "all_comments = fetch_comments(batch1[0])"
   ]
  },
  {
   "cell_type": "code",
   "execution_count": 207,
   "metadata": {},
   "outputs": [],
   "source": [
    "def create_dataset(df):\n",
    "\n",
    "    \"\"\"\n",
    "    Args:\n",
    "        df: original pandas dataframe containing all Reddit submissions and their relative comment forests.\n",
    "    Returns:\n",
    "        pandas dataframe comprising every interaction between users, through the use of the function \"fetch_comments\".\n",
    "\n",
    "    \"\"\"\n",
    "\n",
    "    # create a list containing the comment forests that have been unpacked by the function fetch_comments (which also returns the depth of the comment)\n",
    "    all_comments = []\n",
    "    for i in range(len(df)):\n",
    "        comments = [(df.loc[i,\"submission_object\"],0)]\n",
    "        comments += fetch_comments(df.loc[i,\"comment_forest\"])\n",
    "        all_comments.append(comments)\n",
    "    \n",
    "    # Create empty dataframe where we will store results\n",
    "    final_df = pd.DataFrame(columns = [\"son_comment\", \"mother_comment\", \"comment_depth\", \"interacts_with_depth\", \"author_son\", \"author_mother\", \"text_son\", \"text_mother\"])\n",
    "\n",
    "    # Iterate through each comment forest\n",
    "    for forest in all_comments:\n",
    "        interactions = []\n",
    "        # Iterate through comment/depth pairs and identify interactions.\n",
    "        # An interaction happens if depth_new_comment = depth_old_comment + 1\n",
    "        for i, (comment, depth) in enumerate(forest):\n",
    "            for j in range(i - 1, -1, -1):\n",
    "                if forest[j][1] < depth:\n",
    "                    interactions.append({\n",
    "                        'son_comment': comment, # store the comment object we are currently looking at\n",
    "                        'mother_comment': forest[j][0], # store the comment from which our comment originates\n",
    "                        'comment_depth': depth, # store the depth of the current comment\n",
    "                        'interacts_with_depth': forest[j][1] # store the depth of the parent comment\n",
    "                    })\n",
    "                    break\n",
    "\n",
    "        # if we do not find any interaction in the comment forest we ignore it\n",
    "        if len(interactions) == 0:\n",
    "            continue\n",
    "\n",
    "        # Convert interactions list to DataFrame\n",
    "        interactions_df = pd.DataFrame(interactions)\n",
    "    \n",
    "        # Get the authors of both comments for each interaction\n",
    "        interactions_df['author_son'] = interactions_df.son_comment.apply(lambda x: x.author)\n",
    "        interactions_df['author_mother'] = interactions_df.mother_comment.apply(lambda x: x.author)\n",
    "        \n",
    "        #get the date of publishing of both comments for each interaction\n",
    "        interactions_df['son_date'] = interactions_df.son_comment.apply(lambda x: datetime.fromtimestamp(x.created_utc, tz=timezone.utc).strftime('%Y-%m-%d'))\n",
    "        interactions_df['mother_date'] = interactions_df.mother_comment.apply(lambda x: datetime.fromtimestamp(x.created_utc, tz=timezone.utc).strftime('%Y-%m-%d'))\n",
    "\n",
    "        # get the text of both comments for each interaction.\n",
    "        # Note that we need to differentiate the attribute of the text in the case in which we are considering a submission and not a comment\n",
    "        # In that case the attribute is \".selftext\" and not \".body\"\n",
    "        interactions_df[\"text_son\"] = [interactions_df.son_comment[x].body if interactions_df.comment_depth[x] != 0 else interactions_df.son_comment[x].selftext for x in range(len(interactions_df))]\n",
    "        interactions_df[\"text_mother\"] = [interactions_df.mother_comment[x].body if interactions_df.interacts_with_depth[x] != 0 else interactions_df.mother_comment[x].selftext for x in range(len(interactions_df))]\n",
    "\n",
    "        # Concatenate every newly produces dataset to the final dataset and continue the loop\n",
    "        final_df = pd.concat([final_df,interactions_df],axis = 0)\n",
    "\n",
    "    return final_df"
   ]
  },
  {
   "cell_type": "markdown",
   "metadata": {},
   "source": [
    "#### Dataset Creation"
   ]
  },
  {
   "cell_type": "code",
   "execution_count": 208,
   "metadata": {},
   "outputs": [],
   "source": [
    "final_df = create_dataset(df)"
   ]
  },
  {
   "cell_type": "code",
   "execution_count": 209,
   "metadata": {},
   "outputs": [],
   "source": [
    "final_df = final_df.reset_index(drop = True)"
   ]
  },
  {
   "cell_type": "code",
   "execution_count": 288,
   "metadata": {},
   "outputs": [
    {
     "data": {
      "text/html": [
       "<div>\n",
       "<style scoped>\n",
       "    .dataframe tbody tr th:only-of-type {\n",
       "        vertical-align: middle;\n",
       "    }\n",
       "\n",
       "    .dataframe tbody tr th {\n",
       "        vertical-align: top;\n",
       "    }\n",
       "\n",
       "    .dataframe thead th {\n",
       "        text-align: right;\n",
       "    }\n",
       "</style>\n",
       "<table border=\"1\" class=\"dataframe\">\n",
       "  <thead>\n",
       "    <tr style=\"text-align: right;\">\n",
       "      <th></th>\n",
       "      <th>son_comment</th>\n",
       "      <th>mother_comment</th>\n",
       "      <th>comment_depth</th>\n",
       "      <th>interacts_with_depth</th>\n",
       "      <th>author_son</th>\n",
       "      <th>author_mother</th>\n",
       "      <th>text_son</th>\n",
       "      <th>text_mother</th>\n",
       "      <th>son_date</th>\n",
       "      <th>mother_date</th>\n",
       "      <th>upvotes_son</th>\n",
       "      <th>upvotes_mother</th>\n",
       "      <th>author_son_name</th>\n",
       "      <th>author_mother_name</th>\n",
       "    </tr>\n",
       "  </thead>\n",
       "  <tbody>\n",
       "    <tr>\n",
       "      <th>0</th>\n",
       "      <td>jqax3k3</td>\n",
       "      <td>14o273q</td>\n",
       "      <td>1</td>\n",
       "      <td>0</td>\n",
       "      <td>KosherPigBalls</td>\n",
       "      <td>u/ANobodyBoy</td>\n",
       "      <td>Same as it’s always been; entirely within reac...</td>\n",
       "      <td>Either for a two-state solution or a one-state...</td>\n",
       "      <td>2023-07-01</td>\n",
       "      <td>2023-07-01</td>\n",
       "      <td>34</td>\n",
       "      <td>15</td>\n",
       "      <td>KosherPigBalls</td>\n",
       "      <td>u/ANobodyBoy</td>\n",
       "    </tr>\n",
       "    <tr>\n",
       "      <th>1</th>\n",
       "      <td>jqb87fg</td>\n",
       "      <td>jqax3k3</td>\n",
       "      <td>2</td>\n",
       "      <td>1</td>\n",
       "      <td>GrazingGeese</td>\n",
       "      <td>KosherPigBalls</td>\n",
       "      <td>beautifully said</td>\n",
       "      <td>Same as it’s always been; entirely within reac...</td>\n",
       "      <td>2023-07-01</td>\n",
       "      <td>2023-07-01</td>\n",
       "      <td>6</td>\n",
       "      <td>34</td>\n",
       "      <td>GrazingGeese</td>\n",
       "      <td>KosherPigBalls</td>\n",
       "    </tr>\n",
       "  </tbody>\n",
       "</table>\n",
       "</div>"
      ],
      "text/plain": [
       "  son_comment mother_comment comment_depth interacts_with_depth  \\\n",
       "0     jqax3k3        14o273q             1                    0   \n",
       "1     jqb87fg        jqax3k3             2                    1   \n",
       "\n",
       "       author_son   author_mother  \\\n",
       "0  KosherPigBalls    u/ANobodyBoy   \n",
       "1    GrazingGeese  KosherPigBalls   \n",
       "\n",
       "                                            text_son  \\\n",
       "0  Same as it’s always been; entirely within reac...   \n",
       "1                                   beautifully said   \n",
       "\n",
       "                                         text_mother    son_date mother_date  \\\n",
       "0  Either for a two-state solution or a one-state...  2023-07-01  2023-07-01   \n",
       "1  Same as it’s always been; entirely within reac...  2023-07-01  2023-07-01   \n",
       "\n",
       "   upvotes_son  upvotes_mother author_son_name author_mother_name  \n",
       "0           34              15  KosherPigBalls       u/ANobodyBoy  \n",
       "1            6              34    GrazingGeese     KosherPigBalls  "
      ]
     },
     "execution_count": 288,
     "metadata": {},
     "output_type": "execute_result"
    }
   ],
   "source": [
    "final_df.head(2)"
   ]
  },
  {
   "cell_type": "markdown",
   "metadata": {},
   "source": [
    "#### Replacing missing users with data we have from torrents (the majority is still missing)"
   ]
  },
  {
   "cell_type": "code",
   "execution_count": 212,
   "metadata": {},
   "outputs": [],
   "source": [
    "final_df.author_mother = [df[df.post_id == final_df.mother_comment[i]].username.iloc[0] if (final_df.author_mother[i] is None and final_df.interacts_with_depth[i] == 0) else final_df.author_mother[i] for i in range(len(final_df.author_mother))]"
   ]
  },
  {
   "cell_type": "markdown",
   "metadata": {},
   "source": [
    "#### Getting the upvotes for each comment and submission"
   ]
  },
  {
   "cell_type": "code",
   "execution_count": 226,
   "metadata": {},
   "outputs": [],
   "source": [
    "final_df[\"upvotes_son\"] = [x.score for x in final_df.son_comment]\n",
    "final_df[\"upvotes_mother\"] = [x.score for x in final_df.mother_comment]"
   ]
  },
  {
   "cell_type": "markdown",
   "metadata": {},
   "source": [
    "#### Final cleaning"
   ]
  },
  {
   "cell_type": "code",
   "execution_count": 247,
   "metadata": {},
   "outputs": [],
   "source": [
    "# Get the name attribute of the users who post\n",
    "final_df[\"author_son_name\"] = final_df.author_son.apply(lambda x: x.name if (not isinstance(x,str)) and x else x)\n",
    "final_df[\"author_mother_name\"] = final_df.author_mother.apply(lambda x: x.name if (not isinstance(x,str)) and x else x)"
   ]
  },
  {
   "cell_type": "code",
   "execution_count": 249,
   "metadata": {},
   "outputs": [],
   "source": [
    "# Drop irrelevant columns and rename the rest\n",
    "final_final_df = final_df.drop([\"son_comment\",\"mother_comment\",\"author_son\",\"author_mother\"],axis = 1)\n",
    "final_final_df = final_final_df.rename(columns ={\"author_son_name\" : \"author_son\",\"author_mother_name\":\"author_mother\"})"
   ]
  },
  {
   "cell_type": "code",
   "execution_count": 280,
   "metadata": {},
   "outputs": [],
   "source": [
    "# Deal with dtype problems that arise when exporting the dataset\n",
    "final_final_df.comment_depth = final_final_df.comment_depth.astype(int)\n",
    "final_final_df.interacts_with_depth = final_final_df.interacts_with_depth.astype(int)\n",
    "final_final_df[\"comment_depth\"] = pd.to_numeric(final_final_df[\"comment_depth\"], downcast=\"unsigned\")\n",
    "final_final_df[\"interacts_with_depth\"] = pd.to_numeric(final_final_df[\"interacts_with_depth\"], downcast=\"unsigned\")"
   ]
  },
  {
   "cell_type": "markdown",
   "metadata": {},
   "source": [
    "#### Saving data"
   ]
  },
  {
   "cell_type": "code",
   "execution_count": 285,
   "metadata": {},
   "outputs": [],
   "source": [
    "final_final_df.to_json(\"network_data.json\", index = False)"
   ]
  },
  {
   "cell_type": "markdown",
   "metadata": {},
   "source": [
    "#### Total Nodes/Authors in the dataset"
   ]
  },
  {
   "cell_type": "code",
   "execution_count": 289,
   "metadata": {},
   "outputs": [
    {
     "name": "stdout",
     "output_type": "stream",
     "text": [
      "Total numbers of users in the network: 35101\n"
     ]
    }
   ],
   "source": [
    "list_authors = set(final_df.author_mother.tolist() + final_df.author_son.tolist())\n",
    "print(f\"Total numbers of users in the network: {len(list_authors)}\")"
   ]
  },
  {
   "cell_type": "markdown",
   "metadata": {},
   "source": [
    "-------------"
   ]
  },
  {
   "cell_type": "markdown",
   "metadata": {},
   "source": [
    "### VISUALIZATION"
   ]
  },
  {
   "cell_type": "code",
   "execution_count": 150,
   "metadata": {},
   "outputs": [],
   "source": [
    "unique_inter = final_df.groupby([\"author_son\",\"author_mother\"]).count().reset_index()"
   ]
  },
  {
   "cell_type": "code",
   "execution_count": 156,
   "metadata": {},
   "outputs": [],
   "source": [
    "n_interactions = unique_inter.groupby(\"author_son\")[\"author_mother\"].count().sort_values(ascending = False).reset_index()"
   ]
  },
  {
   "cell_type": "code",
   "execution_count": 158,
   "metadata": {},
   "outputs": [],
   "source": [
    "import seaborn as sns\n",
    "import matplotlib.pyplot as plt"
   ]
  },
  {
   "cell_type": "code",
   "execution_count": 173,
   "metadata": {},
   "outputs": [
    {
     "name": "stderr",
     "output_type": "stream",
     "text": [
      "/Library/Frameworks/Python.framework/Versions/3.9/lib/python3.9/site-packages/seaborn/_oldcore.py:1498: FutureWarning: is_categorical_dtype is deprecated and will be removed in a future version. Use isinstance(dtype, CategoricalDtype) instead\n",
      "  if pd.api.types.is_categorical_dtype(vector):\n",
      "/Library/Frameworks/Python.framework/Versions/3.9/lib/python3.9/site-packages/seaborn/_oldcore.py:1119: FutureWarning: use_inf_as_na option is deprecated and will be removed in a future version. Convert inf values to NaN before operating instead.\n",
      "  with pd.option_context('mode.use_inf_as_na', True):\n"
     ]
    },
    {
     "data": {
      "image/png": "[encoded data removed]",
      "text/plain": [
       "<Figure size 1000x600 with 1 Axes>"
      ]
     },
     "metadata": {},
     "output_type": "display_data"
    }
   ],
   "source": [
    "# Set the aesthetic style of the plots\n",
    "sns.set_style(\"whitegrid\")\n",
    "\n",
    "# Create a figure and axis\n",
    "plt.figure(figsize=(10, 6))\n",
    "\n",
    "# Plot the distribution of the number of interactions\n",
    "sns.histplot(n_interactions[n_interactions.author_mother <100]['author_mother'], bins=100, color='blue')\n",
    "\n",
    "# Add titles and labels\n",
    "plt.title('Distribution of Number of Interactions', fontsize=15)\n",
    "plt.xlabel('Number of Interactions', fontsize=12)\n",
    "plt.ylabel('Frequency', fontsize=12)\n",
    "\n",
    "# Show the plot\n",
    "plt.show()\n"
   ]
  },
  {
   "cell_type": "code",
   "execution_count": 43,
   "metadata": {},
   "outputs": [],
   "source": [
    "batchtry = df[\"comment_forest\"][0]"
   ]
  },
  {
   "cell_type": "code",
   "execution_count": null,
   "metadata": {},
   "outputs": [],
   "source": [
    "create_dataset(batchtry)"
   ]
  }
 ],
 "metadata": {
  "kernelspec": {
   "display_name": "Python 3",
   "language": "python",
   "name": "python3"
  },
  "language_info": {
   "codemirror_mode": {
    "name": "ipython",
    "version": 3
   },
   "file_extension": ".py",
   "mimetype": "text/x-python",
   "name": "python",
   "nbconvert_exporter": "python",
   "pygments_lexer": "ipython3",
   "version": "3.9.4"
  }
 },
 "nbformat": 4,
 "nbformat_minor": 2
}
