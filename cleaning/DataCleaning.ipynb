{
 "cells": [
  {
   "cell_type": "markdown",
   "metadata": {},
   "source": [
    "-----------"
   ]
  },
  {
   "cell_type": "markdown",
   "metadata": {},
   "source": [
    "# READING AND CLEANING DATA FROM ACADEMIC TORRENTS"
   ]
  },
  {
   "cell_type": "markdown",
   "metadata": {},
   "source": [
    "### IMPORTS AND FUNCTIONS"
   ]
  },
  {
   "cell_type": "code",
   "execution_count": 1,
   "metadata": {},
   "outputs": [],
   "source": [
    "import pandas as pd\n",
    "import numpy as np\n",
    "import re\n",
    "from collections import defaultdict\n",
    "import json\n",
    "import time\n",
    "import matplotlib.pyplot as plt\n",
    "import seaborn as sns"
   ]
  },
  {
   "cell_type": "code",
   "execution_count": null,
   "metadata": {},
   "outputs": [],
   "source": [
    "# UNCOMMENT IF THE networkx package is not installed (not necessary for main analysis)\n",
    "# !pip install networkx\n",
    "import networkx as nx"
   ]
  },
  {
   "cell_type": "code",
   "execution_count": 56,
   "metadata": {},
   "outputs": [],
   "source": [
    "def clean_reddit_data(df):\n",
    "    \"\"\"\n",
    "    Input: raw dataframe from academic torrents\n",
    "    Output: clean dataframe, with no missing.\n",
    "\n",
    "    \"\"\"\n",
    "\n",
    "    # GETTING POST ID\n",
    "    df[\"post_id\"] = df[\"URL\"].apply(lambda x: \"\".join(re.findall(\"(?<=comments\\/)\\w+(?=\\/)\",x))).copy()\n",
    "    df.URL = df.URL.apply(lambda x: \"\".join(re.findall(r\"r\\/\\w+\",x)))\n",
    "\n",
    "    #REMOVE MISSING VALUES AND TAKE ONLY DATA FROM OUR SUBREDDITS\n",
    "    list_subreddit = [\"r/Judaism\",\"r/IsraelPalestine\",\"r/Israel\",\"r/Palestine\",\"r/Jewish\"]\n",
    "    df = df[\n",
    "            (df[\"URL\"].isin(list_subreddit))\n",
    "            & (df[\"text\"] != \"[removed]\")\n",
    "            & (df[\"text\"] != \"[deleted]\") \n",
    "            & (~df[\"text\"].isna())\n",
    "            ].drop_duplicates()\n",
    "    # REMOVE POSTS WHICH CONTAIN ONLY IMAGES OR URLS\n",
    "    df = df[(df.text.str.contains(\" \")) & (~df.text.str.contains(\"https://\"))]\n",
    "\n",
    "    # RENAME COLUMNS\n",
    "    df = df.rename(columns= {\"URL\": \"subreddit\"})\n",
    "\n",
    "    return df.sort_values(\"date\").reset_index(drop = True)"
   ]
  },
  {
   "cell_type": "code",
   "execution_count": 57,
   "metadata": {},
   "outputs": [],
   "source": [
    "def clean_reddit_data_rem_del(df):\n",
    "    \"\"\"\n",
    "    Input: raw dataframe from academic torrents\n",
    "    Output: clean dataframe which contains also removed and deleted posts for visualization purposes.\n",
    "\n",
    "    \"\"\"\n",
    "\n",
    "    # GETTING POST ID\n",
    "    df[\"post_id\"] = df[\"URL\"].apply(lambda x: \"\".join(re.findall(\"(?<=comments\\/)\\w+(?=\\/)\",x))).copy()\n",
    "    df.URL = df.URL.apply(lambda x: \"\".join(re.findall(r\"r\\/\\w+\",x)))\n",
    "\n",
    "    #REMOVE MISSING VALUES AND TAKE ONLY DATA FROM OUR SUBREDDITS\n",
    "    list_subreddit = [\"r/Judaism\",\"r/IsraelPalestine\",\"r/Israel\",\"r/Palestine\",\"r/Jewish\"]\n",
    "    df = df[\n",
    "            (df[\"URL\"].isin(list_subreddit))\n",
    "            ].drop_duplicates()\n",
    "    # REMOVE POSTS WHICH CONTAIN ONLY IMAGES OR URLS\n",
    "    df.text = df.text.fillna(\"NaN\")\n",
    "    # RENAME COLUMNS\n",
    "    df = df.rename(columns= {\"URL\": \"subreddit\"})\n",
    "\n",
    "    return df.sort_values(\"date\").reset_index(drop = True)"
   ]
  },
  {
   "cell_type": "markdown",
   "metadata": {},
   "source": [
    "### READING IN THE DATA AND CLEANING"
   ]
  },
  {
   "cell_type": "code",
   "execution_count": 58,
   "metadata": {},
   "outputs": [],
   "source": [
    "list_dataframes_23 = [clean_reddit_data(pd.read_csv(f\"Reddit0{x}23.csv\")) if x < 10 else clean_reddit_data(pd.read_csv(f\"Reddit{x}23.csv\")) for x in range(7,13)]\n",
    "list_dataframes_24 = [clean_reddit_data(pd.read_csv(f\"Reddit0{x}24.csv\")) for x in range(1,5)]\n",
    "list_dataframes = list_dataframes_23 + list_dataframes_24"
   ]
  },
  {
   "cell_type": "code",
   "execution_count": 59,
   "metadata": {},
   "outputs": [],
   "source": [
    "final = pd.concat(list_dataframes, axis = 0, ignore_index = True).reset_index(drop = True)"
   ]
  },
  {
   "cell_type": "code",
   "execution_count": 159,
   "metadata": {},
   "outputs": [],
   "source": [
    "#TO SAVE\n",
    "final.to_csv(\"RedditSubmissionsClean.csv\")"
   ]
  },
  {
   "cell_type": "markdown",
   "metadata": {},
   "source": [
    "## VISUALIZATION"
   ]
  },
  {
   "cell_type": "markdown",
   "metadata": {},
   "source": [
    "### Removed and Deleted"
   ]
  },
  {
   "cell_type": "code",
   "execution_count": 61,
   "metadata": {},
   "outputs": [
    {
     "data": {
      "text/html": [
       "<div>\n",
       "<style scoped>\n",
       "    .dataframe tbody tr th:only-of-type {\n",
       "        vertical-align: middle;\n",
       "    }\n",
       "\n",
       "    .dataframe tbody tr th {\n",
       "        vertical-align: top;\n",
       "    }\n",
       "\n",
       "    .dataframe thead th {\n",
       "        text-align: right;\n",
       "    }\n",
       "</style>\n",
       "<table border=\"1\" class=\"dataframe\">\n",
       "  <thead>\n",
       "    <tr style=\"text-align: right;\">\n",
       "      <th></th>\n",
       "      <th></th>\n",
       "      <th>Number of Deleted and Removed Posts</th>\n",
       "    </tr>\n",
       "    <tr>\n",
       "      <th>subreddit</th>\n",
       "      <th>text</th>\n",
       "      <th></th>\n",
       "    </tr>\n",
       "  </thead>\n",
       "  <tbody>\n",
       "    <tr>\n",
       "      <th rowspan=\"2\" valign=\"top\">r/Israel</th>\n",
       "      <th>[deleted]</th>\n",
       "      <td>52</td>\n",
       "    </tr>\n",
       "    <tr>\n",
       "      <th>[removed]</th>\n",
       "      <td>4044</td>\n",
       "    </tr>\n",
       "    <tr>\n",
       "      <th rowspan=\"2\" valign=\"top\">r/IsraelPalestine</th>\n",
       "      <th>[deleted]</th>\n",
       "      <td>22</td>\n",
       "    </tr>\n",
       "    <tr>\n",
       "      <th>[removed]</th>\n",
       "      <td>9273</td>\n",
       "    </tr>\n",
       "    <tr>\n",
       "      <th rowspan=\"2\" valign=\"top\">r/Palestine</th>\n",
       "      <th>[deleted]</th>\n",
       "      <td>15</td>\n",
       "    </tr>\n",
       "    <tr>\n",
       "      <th>[removed]</th>\n",
       "      <td>8773</td>\n",
       "    </tr>\n",
       "  </tbody>\n",
       "</table>\n",
       "</div>"
      ],
      "text/plain": [
       "                             Number of Deleted and Removed Posts\n",
       "subreddit         text                                          \n",
       "r/Israel          [deleted]                                   52\n",
       "                  [removed]                                 4044\n",
       "r/IsraelPalestine [deleted]                                   22\n",
       "                  [removed]                                 9273\n",
       "r/Palestine       [deleted]                                   15\n",
       "                  [removed]                                 8773"
      ]
     },
     "execution_count": 61,
     "metadata": {},
     "output_type": "execute_result"
    }
   ],
   "source": [
    "# READ THE DATASETS AGAIN WITHOUT REMOVING DELETED AND REMOVED SUBMISSIONS IN ORDER TO VISUALIZE\n",
    "list_dataframes_23_2 = [clean_reddit_data_rem_del(pd.read_csv(f\"Reddit0{x}23.csv\")) if x < 10 else clean_reddit_data_rem_del(pd.read_csv(f\"Reddit{x}23.csv\")) for x in range(7,13)]\n",
    "list_dataframes_24_2 = [clean_reddit_data_rem_del(pd.read_csv(f\"Reddit0{x}24.csv\")) for x in range(1,5)]\n",
    "list_dataframes_2 = list_dataframes_23_2 + list_dataframes_24_2\n",
    "\n",
    "final_2 = pd.concat(list_dataframes_2, axis = 0, ignore_index = True).reset_index(drop = True)\n",
    "subset = [\"r/Israel\",\"r/IsraelPalestine\",\"r/Palestine\"]\n",
    "removed = pd.DataFrame(final_2[((final_2.text == \"[removed]\") | (final_2.text == \"[deleted]\")) & (final_2.subreddit.isin(subset))].groupby([\"subreddit\",\"text\"])[\"post_id\"].count()).rename(columns = {\"post_id\":\"Number of Deleted and Removed Posts\"})\n",
    "removed.to_latex(\"table2.tex\")\n",
    "removed"
   ]
  },
  {
   "cell_type": "markdown",
   "metadata": {},
   "source": [
    "### Total posts"
   ]
  },
  {
   "cell_type": "code",
   "execution_count": 5,
   "metadata": {},
   "outputs": [
    {
     "data": {
      "text/html": [
       "<div>\n",
       "<style scoped>\n",
       "    .dataframe tbody tr th:only-of-type {\n",
       "        vertical-align: middle;\n",
       "    }\n",
       "\n",
       "    .dataframe tbody tr th {\n",
       "        vertical-align: top;\n",
       "    }\n",
       "\n",
       "    .dataframe thead th {\n",
       "        text-align: right;\n",
       "    }\n",
       "</style>\n",
       "<table border=\"1\" class=\"dataframe\">\n",
       "  <thead>\n",
       "    <tr style=\"text-align: right;\">\n",
       "      <th></th>\n",
       "      <th>subreddit</th>\n",
       "      <th>Number of Total Posts</th>\n",
       "    </tr>\n",
       "  </thead>\n",
       "  <tbody>\n",
       "    <tr>\n",
       "      <th>0</th>\n",
       "      <td>r/Israel</td>\n",
       "      <td>5960</td>\n",
       "    </tr>\n",
       "    <tr>\n",
       "      <th>1</th>\n",
       "      <td>r/IsraelPalestine</td>\n",
       "      <td>6667</td>\n",
       "    </tr>\n",
       "    <tr>\n",
       "      <th>2</th>\n",
       "      <td>r/Jewish</td>\n",
       "      <td>4666</td>\n",
       "    </tr>\n",
       "    <tr>\n",
       "      <th>3</th>\n",
       "      <td>r/Judaism</td>\n",
       "      <td>7307</td>\n",
       "    </tr>\n",
       "    <tr>\n",
       "      <th>4</th>\n",
       "      <td>r/Palestine</td>\n",
       "      <td>1412</td>\n",
       "    </tr>\n",
       "  </tbody>\n",
       "</table>\n",
       "</div>"
      ],
      "text/plain": [
       "           subreddit  Number of Total Posts\n",
       "0           r/Israel                   5960\n",
       "1  r/IsraelPalestine                   6667\n",
       "2           r/Jewish                   4666\n",
       "3          r/Judaism                   7307\n",
       "4        r/Palestine                   1412"
      ]
     },
     "execution_count": 5,
     "metadata": {},
     "output_type": "execute_result"
    }
   ],
   "source": [
    "final.groupby(\"subreddit\")[\"text\"].apply(\"count\").reset_index().rename(columns = {\"text\" : \"Number of Total Posts\"})"
   ]
  }
 ],
 "metadata": {
  "kernelspec": {
   "display_name": "Python 3",
   "language": "python",
   "name": "python3"
  },
  "language_info": {
   "codemirror_mode": {
    "name": "ipython",
    "version": 3
   },
   "file_extension": ".py",
   "mimetype": "text/x-python",
   "name": "python",
   "nbconvert_exporter": "python",
   "pygments_lexer": "ipython3",
   "version": "3.9.4"
  }
 },
 "nbformat": 4,
 "nbformat_minor": 2
}
